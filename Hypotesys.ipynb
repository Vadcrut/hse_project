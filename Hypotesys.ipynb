{
  "nbformat": 4,
  "nbformat_minor": 0,
  "metadata": {
    "colab": {
      "provenance": []
    },
    "kernelspec": {
      "name": "python3",
      "display_name": "Python 3"
    },
    "language_info": {
      "name": "python"
    }
  },
  "cells": [
    {
      "cell_type": "markdown",
      "source": [
        "Гипотеза 1: Цена в зависимости от удалённости от метро\n",
        "Мы разделим квартиры на две группы:\n",
        "\n",
        "● Группа 1: Квартиры, расположенные ближе 1 км от метро.\n",
        "\n",
        "● Группа 2: Квартиры, расположенные дальше 1 км от метро.\n",
        "\n",
        "Мы проверим, есть ли статистически значимое различие между средними ценами этих групп с помощью t-теста."
      ],
      "metadata": {
        "id": "NKGHcaerXLuC"
      }
    },
    {
      "cell_type": "code",
      "source": [
        "from scipy.stats import ttest_ind\n",
        "from scipy.stats import shapiro\n",
        "import pandas as pd\n",
        "from scipy.stats import levene\n",
        "from scipy.stats import f_oneway"
      ],
      "metadata": {
        "id": "pQepjWcSVmGh"
      },
      "execution_count": 7,
      "outputs": []
    },
    {
      "cell_type": "code",
      "source": [
        "data = pd.read_csv('/content/data.csv',delimiter=',')"
      ],
      "metadata": {
        "id": "IOgyYdZiV1sv"
      },
      "execution_count": 3,
      "outputs": []
    },
    {
      "cell_type": "code",
      "execution_count": 6,
      "metadata": {
        "colab": {
          "base_uri": "https://localhost:8080/"
        },
        "id": "9hDBv-3dVT3b",
        "outputId": "c34a7f37-f934-472e-e269-8b6bff39120d"
      },
      "outputs": [
        {
          "output_type": "stream",
          "name": "stdout",
          "text": [
            "Shapiro-Wilk Test (Near Metro): ShapiroResult(statistic=np.float64(0.5788604980207716), pvalue=np.float64(2.666510161349048e-44))\n",
            "Shapiro-Wilk Test (Far Metro): ShapiroResult(statistic=np.float64(0.584053730449478), pvalue=np.float64(1.7587591212995675e-29))\n",
            "Levene Test: LeveneResult(statistic=np.float64(28.46353761843063), pvalue=np.float64(1.1099211187226955e-07))\n",
            "t-статистика: 8.990625168149037, p-значение: 8.027699856379267e-19\n"
          ]
        }
      ],
      "source": [
        "# Создание групп\n",
        "near_metro = data[data['Расстояние до метро'] < 1000]['Цена']\n",
        "far_metro = data[data['Расстояние до метро'] >= 1000]['Цена']\n",
        "\n",
        "# Проверка нормальности распределения\n",
        "print(shapiro(near_metro))\n",
        "print(shapiro(far_metro))\n",
        "\n",
        "# Проверка гомогенности дисперсий\n",
        "print(levene(near_metro, far_metro))\n",
        "\n",
        "# Проведение t-теста\n",
        "t_stat, p_value = ttest_ind(near_metro, far_metro, equal_var=False)\n",
        "print(f't-статистика: {t_stat}, p-значение: {p_value}')"
      ]
    },
    {
      "cell_type": "markdown",
      "source": [
        "p-значение стремится к нулю, а значит гипотеза подтверждается"
      ],
      "metadata": {
        "id": "9f1JcawbXXdH"
      }
    },
    {
      "cell_type": "markdown",
      "source": [
        "Гипотеза 2:\n",
        "Влияние количества комнат на цену квартиры\n",
        "\n",
        "Мы проверим, есть ли статистическая разница в цене квартир в зависимости от\n",
        "количества комнат, используя ANOVA (дисперсионный анализ).\n"
      ],
      "metadata": {
        "id": "NlfdIzVAXtwn"
      }
    },
    {
      "cell_type": "code",
      "source": [
        "# Группировка по количеству комнат\n",
        "groups = [data[data['Количество комнат'] == k]['Цена'] for k in data['Количество комнат'].unique()]\n",
        "\n",
        "# ANOVA-тест\n",
        "f_stat, p_value = f_oneway(*groups)\n",
        "print(f'F-статистика: {f_stat}, p-значение: {p_value}')\n"
      ],
      "metadata": {
        "colab": {
          "base_uri": "https://localhost:8080/"
        },
        "id": "khjVaxYdYFHC",
        "outputId": "b4c8da41-4b3c-4168-9403-0689bc2db99d"
      },
      "execution_count": 8,
      "outputs": [
        {
          "output_type": "stream",
          "name": "stdout",
          "text": [
            "F-статистика: 50.33518732749795, p-значение: 3.322101675722014e-40\n"
          ]
        }
      ]
    },
    {
      "cell_type": "markdown",
      "source": [
        "Аналогично, гипотеза о влиянии количества комнат, подтверждается"
      ],
      "metadata": {
        "id": "AvdT2u48YQID"
      }
    }
  ]
}